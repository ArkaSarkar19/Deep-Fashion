{
 "cells": [
  {
   "cell_type": "code",
   "execution_count": 1,
   "metadata": {
    "id": "uWxeWDfgfWXt"
   },
   "outputs": [],
   "source": [
    "import numpy as np\n",
    "import pandas as pd\n",
    "import matplotlib.pyplot as plt\n",
    "import tensorflow as tf\n",
    "from keras import layers\n",
    "from keras.layers import Input, Add, Dense, Activation, ZeroPadding2D, BatchNormalization, Flatten, Conv2D, AveragePooling2D, MaxPooling2D, GlobalMaxPooling2D, Dropout\n",
    "from keras.models import Model, load_model, Sequential\n",
    "import os\n",
    "import cv2\n",
    "from PIL import Image \n",
    "from tqdm import tqdm\n",
    "from random import shuffle\n",
    "import pickle\n",
    "from keras import optimizers\n",
    "from keras import applications"
   ]
  },
  {
   "cell_type": "code",
   "execution_count": 2,
   "metadata": {
    "colab": {
     "base_uri": "https://localhost:8080/"
    },
    "id": "CaQbqdWofg5E",
    "outputId": "59f15750-f91f-4dfd-9a21-9b174755c112"
   },
   "outputs": [
    {
     "name": "stdout",
     "output_type": "stream",
     "text": [
      "Mounted at /gdrive/\n"
     ]
    }
   ],
   "source": []
  },
  {
   "cell_type": "code",
   "execution_count": null,
   "metadata": {
    "id": "Itt7fWxTfWX0",
    "tags": []
   },
   "outputs": [],
   "source": [
    "# images = []\n",
    "# for img, anno in tqdm(zip(os.listdir('../DeepFashion2_Dataset/train/train/image'), os.listdir('../DeepFashion2_Dataset/train/train/annos')), position = 0):\n",
    "#     image = cv2.imread('../DeepFashion2_Dataset/train/train/image/' + img)\n",
    "#     res = cv2.resize(image, dsize=(128, 128), interpolation=cv2.INTER_CUBIC)\n",
    "#     images.append(res)\n",
    "    "
   ]
  },
  {
   "cell_type": "code",
   "execution_count": 3,
   "metadata": {
    "id": "ThWrYAhsfWX1",
    "tags": []
   },
   "outputs": [],
   "source": [
    "def create_label(number,vec_size):\n",
    "    a=np.zeros((vec_size,1))\n",
    "    a[number]=1\n",
    "    return np.array(a)\n",
    "\n",
    "def create_dataset_acs(IMG_SIZE=64,label_list=list(range(15))):\n",
    "    #total images in training dataset=71094\n",
    "    # mean image size 206,164\n",
    "    DATASET_DIR='../fashion-data'\n",
    "    DATASET_FILE_PATH='train.txt'\n",
    "\n",
    "    train_file=open(os.path.join(DATASET_DIR,DATASET_FILE_PATH),'r')\n",
    "    train_file_paths=train_file.read().split('\\n')\n",
    "    train_file.close()\n",
    "\n",
    "    FILE_PATH='../fashion-data/labels.json'\n",
    "    label_file=open(os.path.join(DATASET_DIR,FILE_PATH),'r')\n",
    "    label_read=label_file.read()\n",
    "    label_file.close()\n",
    "\n",
    "    temp1=label_read.split('\\n')\n",
    "    label_file.close()\n",
    "\n",
    "    labels_dict={}\n",
    "    for i in temp1[1:-2]:\n",
    "        key=i.split(':')\n",
    "        if int(key[0]) in label_list:\n",
    "            labels_dict[int(key[0])]=key[1][:-2]\n",
    "\n",
    "    #IMG_SIZE=128\n",
    "    training_data=[]\n",
    "    k=0\n",
    "    for img_path in tqdm(train_file_paths[:-1], position = 0 , desc = \"Progress :\"):\n",
    "        k=k+1\n",
    "        #img_path_full=os.path.join(DATASET_DIR+'/fashion-data/images',img_path+'.jpg')\n",
    "        #img=cv2.imread(img_path_full,cv2.IMREAD_GRAYSCALE)\n",
    "        #img=cv2.resize(img,(IMG_SIZE,IMG_SIZE))\n",
    "        \n",
    "        #print(img)\n",
    "        if int(img_path[0]) in label_list:\n",
    "            img_path_full=os.path.join(DATASET_DIR+'/images',img_path+'.jpg')\n",
    "            img=cv2.cvtColor(cv2.imread(img_path_full,cv2.IMREAD_COLOR),cv2.COLOR_BGR2RGB)\n",
    "            img=cv2.resize(img,(IMG_SIZE,IMG_SIZE))\n",
    "            label=create_label(int(img_path[0:2].split('/')[0]),len(label_list))\n",
    "            training_data.append([np.array(img),label])\n",
    "    \n",
    "    shuffle(training_data)\n",
    "    #np.save('acs_train_data_labels-{}.npy'.format(len(label_list)),training_data)\n",
    "    return training_data,labels_dict"
   ]
  },
  {
   "cell_type": "code",
   "execution_count": null,
   "metadata": {
    "id": "1k72ARWhfWX2",
    "outputId": "d4cde12e-5274-4235-a688-974e7b36ca5f"
   },
   "outputs": [
    {
     "name": "stderr",
     "output_type": "stream",
     "text": [
      "Progress :: 100%|███████████████████████████████████████████████████████████████| 71093/71093 [05:28<00:00, 216.52it/s]\n"
     ]
    }
   ],
   "source": [
    "training_data,labels_dict=create_dataset_acs()"
   ]
  },
  {
   "cell_type": "code",
   "execution_count": null,
   "metadata": {
    "id": "W-KTcqLUfWX4"
   },
   "outputs": [],
   "source": [
    "# f = open(\"../Pickle-Data/ACS_training_data_64\", \"wb\")\n",
    "# pickle.dump(training_data, f)\n",
    "# f.close()"
   ]
  },
  {
   "cell_type": "code",
   "execution_count": null,
   "metadata": {
    "id": "g6g8_irGfWX5"
   },
   "outputs": [],
   "source": [
    "# f = open(\"../Pickle-Data/ACS_training_labels_dict_64\", \"wb\")\n",
    "# pickle.dump(labels_dict, f)\n",
    "# f.close()"
   ]
  },
  {
   "cell_type": "code",
   "execution_count": null,
   "metadata": {
    "id": "AUloRWBAfWX6",
    "outputId": "7ae535a5-c4a6-422d-a69f-6e08ad794ba1"
   },
   "outputs": [
    {
     "name": "stderr",
     "output_type": "stream",
     "text": [
      "Progress :: 100%|███████████████████████████████████████████████████████████████| 71093/71093 [01:35<00:00, 744.67it/s]\n"
     ]
    }
   ],
   "source": [
    "training_data,labels_dict=create_dataset_acs(IMG_SIZE = 128)"
   ]
  },
  {
   "cell_type": "code",
   "execution_count": null,
   "metadata": {
    "id": "a86hYoyAfWX6"
   },
   "outputs": [],
   "source": [
    "# f = open(\"../Pickle-Data/ACS_training_data_128\", \"wb\")\n",
    "# pickle.dump(training_data, f)\n",
    "# f.close()"
   ]
  },
  {
   "cell_type": "code",
   "execution_count": null,
   "metadata": {
    "id": "WlYJnLx-fWX7"
   },
   "outputs": [],
   "source": [
    "# f = open(\"../Pickle-Data/ACS_training_labels_dict_128\", \"wb\")\n",
    "# pickle.dump(labels_dict, f)\n",
    "# f.close()"
   ]
  },
  {
   "cell_type": "code",
   "execution_count": 4,
   "metadata": {},
   "outputs": [
    {
     "name": "stderr",
     "output_type": "stream",
     "text": [
      "Progress :: 100%|███████████████████████████████████████████████████████████████| 71093/71093 [05:45<00:00, 205.86it/s]\n"
     ]
    }
   ],
   "source": [
    "training_data,labels_dict=create_dataset_acs(IMG_SIZE = 50)"
   ]
  },
  {
   "cell_type": "code",
   "execution_count": 5,
   "metadata": {},
   "outputs": [],
   "source": [
    "# f = open(\"../Pickle-Data/ACS_training_data_50\", \"wb\")\n",
    "# pickle.dump(training_data, f)\n",
    "# f.close()"
   ]
  },
  {
   "cell_type": "code",
   "execution_count": 6,
   "metadata": {},
   "outputs": [],
   "source": [
    "# f = open(\"../Pickle-Data/ACS_training_labels_dict_50\", \"wb\")\n",
    "# pickle.dump(labels_dict, f)\n",
    "# f.close()"
   ]
  },
  {
   "cell_type": "code",
   "execution_count": 3,
   "metadata": {
    "id": "jU1BZ-QWjat7"
   },
   "outputs": [],
   "source": [
    "# training_data = pickle.load(open('/gdrive/MyDrive/CSE344-Computer-Vision-Project/Clothing_Detection/ACS_training_data_64', 'rb'))\n",
    "# labels_dict = pickle.load(open('/gdrive/MyDrive/CSE344-Computer-Vision-Project/Clothing_Detection/ACS_training_labels_dict_64', 'rb'))\n",
    "\n",
    "training_data = pickle.load(open('../Pickle-Data/ACS_training_data_64', 'rb'))\n",
    "labels_dict = pickle.load(open('../Pickle-Data//ACS_training_labels_dict_64', 'rb'))"
   ]
  },
  {
   "cell_type": "code",
   "execution_count": 4,
   "metadata": {
    "colab": {
     "base_uri": "https://localhost:8080/"
    },
    "id": "QkPwsUXifWX7",
    "outputId": "a98a4c9a-9269-4214-e96f-86fa244ae5b3"
   },
   "outputs": [
    {
     "name": "stdout",
     "output_type": "stream",
     "text": [
      "# of training samples: 71093  shape: (64, 64, 3) shape_label: (15, 1)\n"
     ]
    }
   ],
   "source": [
    "#training data sanity check\n",
    "print('# of training samples:',len(training_data),' shape:',training_data[0][0].shape,\n",
    "      'shape_label:',training_data[0][1].shape)"
   ]
  },
  {
   "cell_type": "code",
   "execution_count": 5,
   "metadata": {
    "id": "lWXcaXqYfWX8"
   },
   "outputs": [],
   "source": [
    "train=training_data[:-3000]\n",
    "val_test=training_data[-3000:]"
   ]
  },
  {
   "cell_type": "code",
   "execution_count": 6,
   "metadata": {
    "id": "JitMkrACfWX9"
   },
   "outputs": [],
   "source": [
    "X=np.array([np.array(i[0]) for i in train])\n",
    "Y=np.array([i[1].reshape((len(labels_dict),)) for i in train])\n",
    "\n",
    "val_test_x=np.array([np.array(i[0]) for i in val_test])\n",
    "val_test_y=np.array([i[1].reshape((len(labels_dict),)) for i in val_test])"
   ]
  },
  {
   "cell_type": "code",
   "execution_count": 7,
   "metadata": {
    "colab": {
     "base_uri": "https://localhost:8080/"
    },
    "id": "QXIYNaKSfWX-",
    "outputId": "ed4a6924-526f-4cd8-edbc-0b62a2686373"
   },
   "outputs": [
    {
     "data": {
      "text/plain": [
       "((68093, 64, 64, 3), (68093, 15), (3000, 64, 64, 3), (3000, 15))"
      ]
     },
     "execution_count": 7,
     "metadata": {
      "tags": []
     },
     "output_type": "execute_result"
    }
   ],
   "source": [
    "X.shape, Y.shape, val_test_x.shape, val_test_y.shape"
   ]
  },
  {
   "cell_type": "code",
   "execution_count": 39,
   "metadata": {
    "id": "PtHKaXzBfWX-"
   },
   "outputs": [],
   "source": [
    "model=applications.VGG16(include_top=False,weights='imagenet',input_shape=(64,64,3),classes=len(labels_dict))"
   ]
  },
  {
   "cell_type": "code",
   "execution_count": 40,
   "metadata": {
    "id": "iTxGjNRZfWX-"
   },
   "outputs": [],
   "source": [
    "\n",
    "#setting trainable layers\n",
    "for layer in model.layers:\n",
    "    layer.trainable=True\n",
    "# for layer in model.layers[:-8]:\n",
    "#     layer.trainable=False\n",
    "\n"
   ]
  },
  {
   "cell_type": "code",
   "execution_count": 41,
   "metadata": {
    "colab": {
     "base_uri": "https://localhost:8080/"
    },
    "id": "1cpLe2B9fWX_",
    "outputId": "236db12c-3952-4895-9e43-cb2bf64a87d4"
   },
   "outputs": [
    {
     "name": "stdout",
     "output_type": "stream",
     "text": [
      "layer Number: 1  setting: True\n",
      "layer Number: 2  setting: True\n",
      "layer Number: 3  setting: True\n",
      "layer Number: 4  setting: True\n",
      "layer Number: 5  setting: True\n",
      "layer Number: 6  setting: True\n",
      "layer Number: 7  setting: True\n",
      "layer Number: 8  setting: True\n",
      "layer Number: 9  setting: True\n",
      "layer Number: 10  setting: True\n",
      "layer Number: 11  setting: True\n",
      "layer Number: 12  setting: True\n",
      "layer Number: 13  setting: True\n",
      "layer Number: 14  setting: True\n",
      "layer Number: 15  setting: True\n",
      "layer Number: 16  setting: True\n",
      "layer Number: 17  setting: True\n",
      "layer Number: 18  setting: True\n",
      "layer Number: 19  setting: True\n"
     ]
    }
   ],
   "source": [
    "i=0\n",
    "for layer in model.layers:\n",
    "    i=i+1\n",
    "    print('layer Number:',i,' setting:',layer.trainable)"
   ]
  },
  {
   "cell_type": "code",
   "execution_count": 42,
   "metadata": {
    "id": "N9G7MnL5htLj"
   },
   "outputs": [],
   "source": [
    "#extra FC layers\n",
    "x=model.output\n",
    "x=Flatten()(x)\n",
    "x=Dense(1024,activation=\"relu\")(x)\n",
    "x=Dropout(0.2)(x)\n",
    "# x=Dense(512,activation=\"relu\")(x)\n",
    "# x=Dropout(0.2)(x)\n",
    "x=Dense(128,activation=\"relu\")(x)\n",
    "predictions=Dense(len(labels_dict),activation=\"softmax\")(x)"
   ]
  },
  {
   "cell_type": "code",
   "execution_count": 43,
   "metadata": {
    "id": "6wsMnlbgknU5"
   },
   "outputs": [],
   "source": [
    "model_final=Model(inputs=model.input,outputs=predictions)"
   ]
  },
  {
   "cell_type": "code",
   "execution_count": 44,
   "metadata": {
    "colab": {
     "base_uri": "https://localhost:8080/"
    },
    "id": "Qgbr5uXJh3To",
    "outputId": "1abe52db-fa78-4f00-f140-724b317df2f0"
   },
   "outputs": [
    {
     "name": "stdout",
     "output_type": "stream",
     "text": [
      "Model: \"model_3\"\n",
      "_________________________________________________________________\n",
      "Layer (type)                 Output Shape              Param #   \n",
      "=================================================================\n",
      "input_4 (InputLayer)         [(None, 64, 64, 3)]       0         \n",
      "_________________________________________________________________\n",
      "block1_conv1 (Conv2D)        (None, 64, 64, 64)        1792      \n",
      "_________________________________________________________________\n",
      "block1_conv2 (Conv2D)        (None, 64, 64, 64)        36928     \n",
      "_________________________________________________________________\n",
      "block1_pool (MaxPooling2D)   (None, 32, 32, 64)        0         \n",
      "_________________________________________________________________\n",
      "block2_conv1 (Conv2D)        (None, 32, 32, 128)       73856     \n",
      "_________________________________________________________________\n",
      "block2_conv2 (Conv2D)        (None, 32, 32, 128)       147584    \n",
      "_________________________________________________________________\n",
      "block2_pool (MaxPooling2D)   (None, 16, 16, 128)       0         \n",
      "_________________________________________________________________\n",
      "block3_conv1 (Conv2D)        (None, 16, 16, 256)       295168    \n",
      "_________________________________________________________________\n",
      "block3_conv2 (Conv2D)        (None, 16, 16, 256)       590080    \n",
      "_________________________________________________________________\n",
      "block3_conv3 (Conv2D)        (None, 16, 16, 256)       590080    \n",
      "_________________________________________________________________\n",
      "block3_pool (MaxPooling2D)   (None, 8, 8, 256)         0         \n",
      "_________________________________________________________________\n",
      "block4_conv1 (Conv2D)        (None, 8, 8, 512)         1180160   \n",
      "_________________________________________________________________\n",
      "block4_conv2 (Conv2D)        (None, 8, 8, 512)         2359808   \n",
      "_________________________________________________________________\n",
      "block4_conv3 (Conv2D)        (None, 8, 8, 512)         2359808   \n",
      "_________________________________________________________________\n",
      "block4_pool (MaxPooling2D)   (None, 4, 4, 512)         0         \n",
      "_________________________________________________________________\n",
      "block5_conv1 (Conv2D)        (None, 4, 4, 512)         2359808   \n",
      "_________________________________________________________________\n",
      "block5_conv2 (Conv2D)        (None, 4, 4, 512)         2359808   \n",
      "_________________________________________________________________\n",
      "block5_conv3 (Conv2D)        (None, 4, 4, 512)         2359808   \n",
      "_________________________________________________________________\n",
      "block5_pool (MaxPooling2D)   (None, 2, 2, 512)         0         \n",
      "_________________________________________________________________\n",
      "flatten_4 (Flatten)          (None, 2048)              0         \n",
      "_________________________________________________________________\n",
      "dense_11 (Dense)             (None, 1024)              2098176   \n",
      "_________________________________________________________________\n",
      "dropout_3 (Dropout)          (None, 1024)              0         \n",
      "_________________________________________________________________\n",
      "dense_12 (Dense)             (None, 128)               131200    \n",
      "_________________________________________________________________\n",
      "dense_13 (Dense)             (None, 15)                1935      \n",
      "=================================================================\n",
      "Total params: 16,945,999\n",
      "Trainable params: 16,945,999\n",
      "Non-trainable params: 0\n",
      "_________________________________________________________________\n"
     ]
    }
   ],
   "source": [
    "model_final.summary()"
   ]
  },
  {
   "cell_type": "code",
   "execution_count": 45,
   "metadata": {
    "id": "arb7G6Y5h4rb"
   },
   "outputs": [],
   "source": [
    "rms=optimizers.RMSprop(lr=0.005)\n",
    "model_final.compile(loss = \"categorical_crossentropy\", optimizer = rms, metrics=[\"accuracy\"])"
   ]
  },
  {
   "cell_type": "code",
   "execution_count": null,
   "metadata": {
    "colab": {
     "base_uri": "https://localhost:8080/"
    },
    "id": "E7QBJ3jbiAA8",
    "outputId": "1f708add-a9d5-4fa2-ed10-25ed35106ead"
   },
   "outputs": [
    {
     "name": "stdout",
     "output_type": "stream",
     "text": [
      "Epoch 1/20\n",
      "266/266 [==============================] - 78s 279ms/step - loss: 87824251694352.4219 - accuracy: 0.1250 - val_loss: 2.4805 - val_accuracy: 0.1197\n",
      "Epoch 2/20\n",
      " 77/266 [=======>......................] - ETA: 48s - loss: 2.4701 - accuracy: 0.1357"
     ]
    }
   ],
   "source": [
    "history=model_final.fit(x=X,y=Y,epochs=20,validation_data=(val_test_x,val_test_y),batch_size=256)"
   ]
  },
  {
   "cell_type": "code",
   "execution_count": 19,
   "metadata": {
    "colab": {
     "base_uri": "https://localhost:8080/",
     "height": 286
    },
    "id": "B8pAgcjXlQO8",
    "outputId": "69190ca5-3c4c-44a5-ad58-84072a0ceaa1"
   },
   "outputs": [
    {
     "data": {
      "text/plain": [
       "<matplotlib.image.AxesImage at 0x7fb57443cc50>"
      ]
     },
     "execution_count": 19,
     "metadata": {
      "tags": []
     },
     "output_type": "execute_result"
    },
    {
     "data": {
      "image/png": "[encoded data removed]",
      "text/plain": [
       "<Figure size 432x288 with 1 Axes>"
      ]
     },
     "metadata": {
      "needs_background": "light",
      "tags": []
     },
     "output_type": "display_data"
    }
   ],
   "source": [
    "plt.imshow(X[0])"
   ]
  },
  {
   "cell_type": "code",
   "execution_count": null,
   "metadata": {
    "id": "I-agw-vzlQRn"
   },
   "outputs": [],
   "source": []
  },
  {
   "cell_type": "code",
   "execution_count": null,
   "metadata": {
    "id": "6e0oCHBOlQT9"
   },
   "outputs": [],
   "source": []
  },
  {
   "cell_type": "code",
   "execution_count": null,
   "metadata": {
    "id": "u42JNIQvlQWP"
   },
   "outputs": [],
   "source": []
  }
 ],
 "metadata": {
  "accelerator": "GPU",
  "colab": {
   "collapsed_sections": [],
   "name": "CNN_Model.ipynb",
   "provenance": []
  },
  "kernelspec": {
   "display_name": "Python 3",
   "language": "python",
   "name": "python3"
  },
  "language_info": {
   "codemirror_mode": {
    "name": "ipython",
    "version": 3
   },
   "file_extension": ".py",
   "mimetype": "text/x-python",
   "name": "python",
   "nbconvert_exporter": "python",
   "pygments_lexer": "ipython3",
   "version": "3.8.1"
  }
 },
 "nbformat": 4,
 "nbformat_minor": 4
}
